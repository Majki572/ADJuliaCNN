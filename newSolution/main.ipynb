{
 "cells": [
  {
   "cell_type": "code",
   "execution_count": 1,
   "metadata": {},
   "outputs": [
    {
     "name": "stdout",
     "output_type": "stream",
     "text": [
      "Output dimensions after layer Main.ConvolutionModule.ConvLayer: (26, 26, 6)\n",
      "Output dimensions after layer MaxPoolLayer: (13, 13, 6)\n",
      "Output dimensions after layer Main.ConvolutionModule.ConvLayer: (11, 11, 16)\n",
      "Output dimensions after layer MaxPoolLayer: (5, 5, 16)\n",
      "Output dimensions after layer FlattenLayer: (400, 1)\n",
      "Output dimensions after layer DenseLayer: (84, 1)\n",
      "Output dimensions after layer DenseLayer: (10, 1)\n",
      "Loss at iteration 1: 2.3025777\n"
     ]
    },
    {
     "ename": "ErrorException",
     "evalue": "type DenseLayer has no field backward",
     "output_type": "error",
     "traceback": [
      "type DenseLayer has no field backward\n",
      "\n",
      "Stacktrace:\n",
      " [1] getproperty\n",
      "   @ .\\Base.jl:37 [inlined]\n",
      " [2] backward_pass(network::Tuple{Main.ConvolutionModule.ConvLayer, MaxPoolLayer, Main.ConvolutionModule.ConvLayer, MaxPoolLayer, FlattenLayer, DenseLayer, DenseLayer}, grad_loss::Float64)\n",
      "   @ Main.NetworkHandlers f:\\GitHubRepository\\ADJuliaCNN\\ADJuliaCNN\\newSolution\\NetworkHandlers.jl:14\n",
      " [3] train_epoch(network::Tuple{Main.ConvolutionModule.ConvLayer, MaxPoolLayer, Main.ConvolutionModule.ConvLayer, MaxPoolLayer, FlattenLayer, DenseLayer, DenseLayer}, inputs::Array{Float32, 4}, targets::Matrix{Int64}, epochs::Int64)\n",
      "   @ Main f:\\GitHubRepository\\ADJuliaCNN\\ADJuliaCNN\\newSolution\\main.ipynb:49\n",
      " [4] top-level scope\n",
      "   @ f:\\GitHubRepository\\ADJuliaCNN\\ADJuliaCNN\\newSolution\\main.ipynb:54"
     ]
    }
   ],
   "source": [
    "using Statistics\n",
    "\n",
    "include(\"ConvolutionModule.jl\")  # Load the module\n",
    "include(\"PoolingModule.jl\")  # Load the module\n",
    "include(\"NetworkHandlers.jl\")\n",
    "include(\"LossAndAccuracy.jl\")\n",
    "include(\"MNISTDataLoader.jl\")\n",
    "include(\"FlattenModule.jl\")\n",
    "include(\"DenseModule.jl\")\n",
    "\n",
    "using .ConvolutionModule, .PoolingModule, .MNISTDataLoader, .FlattenModule, .DenseModule # Use the namespace\n",
    "\n",
    "# Load and preprocess the data\n",
    "train_features, train_labels = MNISTDataLoader.load_data(:train)\n",
    "train_x, train_y = MNISTDataLoader.preprocess_data(train_features, train_labels; one_hot=true)\n",
    "\n",
    "# Create batches\n",
    "batch_size = 100  # Define your desired batch size\n",
    "train_data = MNISTDataLoader.batch_data((train_x, train_y), batch_size; shuffle=true)\n",
    "# input_image = Float64.(input_image)\n",
    "\n",
    "# Initialize layers\n",
    "conv_layer1 = ConvolutionModule.init_conv_layer(3, 3, 1, 6, 1, 0)\n",
    "pool_layer1 = PoolingModule.init_pool_layer(2, 2, 2)\n",
    "conv_layer2 = ConvolutionModule.init_conv_layer(3, 3, 6, 16, 1, 0)\n",
    "pool_layer2 = PoolingModule.init_pool_layer(2, 2, 2)\n",
    "flatten_layer = FlattenModule.FlattenLayer()\n",
    "dense_layer1 = DenseModule.init_dense_layer(400, 84, DenseModule.relu, DenseModule.relu_grad)  # Adjusted to correct input size\n",
    "dense_layer2 = DenseModule.init_dense_layer(84, 10, DenseModule.identity, DenseModule.identity_grad)\n",
    "\n",
    "# Assemble the network\n",
    "network = (conv_layer1, pool_layer1, conv_layer2, pool_layer2, flatten_layer, dense_layer1, dense_layer2)\n",
    "\n",
    "using .NetworkHandlers, .LossAndAccuracy\n",
    "function train_epoch(network, inputs, targets, epochs)\n",
    "    for epoch in 1:epochs\n",
    "        for i in 1:size(inputs, 4)  # Iterate over each example\n",
    "            input = inputs[:, :, :, i]\n",
    "            target = targets[:, i]\n",
    "\n",
    "            # Forward pass\n",
    "            output = NetworkHandlers.forward_pass(network, input)\n",
    "\n",
    "            # Calculate loss and its gradient\n",
    "            loss, grad_loss = LossAndAccuracy.loss_and_accuracy(output, target)\n",
    "            println(\"Loss at iteration $i: $loss\")\n",
    "\n",
    "            # Backward pass\n",
    "            NetworkHandlers.backward_pass(network, grad_loss)\n",
    "        end\n",
    "    end\n",
    "end\n",
    "\n",
    "train_epoch(network, train_x, train_y, 1)"
   ]
  },
  {
   "cell_type": "code",
   "execution_count": null,
   "metadata": {},
   "outputs": [],
   "source": [
    "\n"
   ]
  },
  {
   "cell_type": "code",
   "execution_count": null,
   "metadata": {},
   "outputs": [],
   "source": [
    "train_epoch(network, train_x, train_y, 1)"
   ]
  }
 ],
 "metadata": {
  "kernelspec": {
   "display_name": "Julia 1.10.2",
   "language": "julia",
   "name": "julia-1.10"
  },
  "language_info": {
   "file_extension": ".jl",
   "mimetype": "application/julia",
   "name": "julia",
   "version": "1.10.2"
  }
 },
 "nbformat": 4,
 "nbformat_minor": 2
}
