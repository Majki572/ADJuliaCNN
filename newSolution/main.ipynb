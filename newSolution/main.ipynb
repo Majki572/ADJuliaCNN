{
 "cells": [
  {
   "cell_type": "code",
   "execution_count": 11,
   "metadata": {},
   "outputs": [
    {
     "ename": "UndefVarError",
     "evalue": "UndefVarError: `conv_output` not defined",
     "output_type": "error",
     "traceback": [
      "UndefVarError: `conv_output` not defined\n",
      "\n",
      "Stacktrace:\n",
      " [1] top-level scope\n",
      "   @ f:\\GitHubRepository\\ADJuliaCNN\\ADJuliaCNN\\newSolution\\main.ipynb:23"
     ]
    }
   ],
   "source": [
    "using MLDatasets, Statistics\n",
    "\n",
    "include(\"ConvolutionModule.jl\")  # Load the module\n",
    "include(\"PoolingModule.jl\")  # Load the module\n",
    "using .ConvolutionModule, .PoolingModule # Use the namespace\n",
    "\n",
    "train_x, train_y = MNIST(split=:train)[:]\n",
    "input_image = reshape(train_x[:, :, 1], 28, 28, 1)\n",
    "input_image = Float64.(input_image)\n",
    "\n",
    "# Initialize the convolutional layer\n",
    "conv_layer = ConvolutionModule.init_conv_layer(3, 3, 1, 6, 1, 1)\n",
    "\n",
    "# Initialize the max pooling layer\n",
    "pool_layer = PoolingModule.init_pool_layer(2, 2, 2)  # 2x2 pool size, stride of 2\n",
    "\n",
    "\n",
    "\n",
    "# Apply the convolutional layer\n",
    "conv_output = conv_layer(input_image)\n",
    "\n",
    "# Apply the max pooling layer\n",
    "pooled_output = PoolingModule.apply_pooling(pool_layer, conv_output)\n"
   ]
  },
  {
   "cell_type": "code",
   "execution_count": null,
   "metadata": {},
   "outputs": [],
   "source": []
  }
 ],
 "metadata": {
  "kernelspec": {
   "display_name": "Julia 1.10.2",
   "language": "julia",
   "name": "julia-1.10"
  },
  "language_info": {
   "file_extension": ".jl",
   "mimetype": "application/julia",
   "name": "julia",
   "version": "1.10.2"
  }
 },
 "nbformat": 4,
 "nbformat_minor": 2
}
